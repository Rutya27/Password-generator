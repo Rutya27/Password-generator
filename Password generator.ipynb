{
 "cells": [
  {
   "cell_type": "markdown",
   "id": "ff75b46e",
   "metadata": {},
   "source": [
    "# Task:-2"
   ]
  },
  {
   "cell_type": "markdown",
   "id": "669f5371",
   "metadata": {},
   "source": [
    "# Password generator:\n",
    "                                     This python password generator project allows users tospecify the desired lenght of a password , generates a random password of that length using a combinations of characters, and then displays the generated password on the screen.users have control over the complexity and length of the password they want to generate."
   ]
  },
  {
   "cell_type": "code",
   "execution_count": 1,
   "id": "3916a888",
   "metadata": {},
   "outputs": [
    {
     "name": "stdout",
     "output_type": "stream",
     "text": [
      "enter the desired length of the password:4\n",
      "Generated password:. !pdd\n"
     ]
    }
   ],
   "source": [
    "import random \n",
    "import string\n",
    "def generate_password(length):\n",
    "    characters= string.ascii_letters+string.digits+string.punctuation\n",
    "    password=''.join(random.choice(characters) for _ in range(length))\n",
    "    return password\n",
    "def main():\n",
    "    try:\n",
    "        length= int(input(\"enter the desired length of the password:\"))\n",
    "        if length <1:\n",
    "            raise ValueError(\"length should be a positive integer.\")\n",
    "        password =generate_password(length)\n",
    "        print(\"Generated password:.\",password)\n",
    "    except ValueError as e:\n",
    "        print(\"Error:\",e)\n",
    "    \n",
    "if __name__ == \"__main__\":\n",
    "    main()"
   ]
  },
  {
   "cell_type": "code",
   "execution_count": null,
   "id": "e9bb46f9",
   "metadata": {},
   "outputs": [],
   "source": []
  }
 ],
 "metadata": {
  "kernelspec": {
   "display_name": "Python 3 (ipykernel)",
   "language": "python",
   "name": "python3"
  },
  "language_info": {
   "codemirror_mode": {
    "name": "ipython",
    "version": 3
   },
   "file_extension": ".py",
   "mimetype": "text/x-python",
   "name": "python",
   "nbconvert_exporter": "python",
   "pygments_lexer": "ipython3",
   "version": "3.11.4"
  }
 },
 "nbformat": 4,
 "nbformat_minor": 5
}
